{
 "cells": [
  {
   "cell_type": "code",
   "execution_count": 1,
   "id": "080c5772",
   "metadata": {},
   "outputs": [
    {
     "name": "stderr",
     "output_type": "stream",
     "text": [
      "b:\\Users\\Nikhil-Kakran\\env\\pytor\\Lib\\site-packages\\tqdm\\auto.py:21: TqdmWarning: IProgress not found. Please update jupyter and ipywidgets. See https://ipywidgets.readthedocs.io/en/stable/user_install.html\n",
      "  from .autonotebook import tqdm as notebook_tqdm\n"
     ]
    }
   ],
   "source": [
    "from peft import PeftModel\n",
    "from transformers import AutoTokenizer, AutoModelForSeq2SeqLM\n",
    "import bitsandbytes as bnb\n",
    "from .autonotebook import tqdm as notebook_tqdm"
   ]
  },
  {
   "cell_type": "code",
   "execution_count": 2,
   "id": "5bb89726",
   "metadata": {},
   "outputs": [],
   "source": [
    "base_model_path = \"mbart-model\"\n",
    "peft_model_path = \"peft-model\""
   ]
  },
  {
   "cell_type": "code",
   "execution_count": 3,
   "id": "edfaac7d",
   "metadata": {},
   "outputs": [],
   "source": [
    "\n",
    "tokenizer = AutoTokenizer.from_pretrained(base_model_path, src_lang=\"en_XX\", tgt_lang=\"hi_IN\")\n",
    "base_model = AutoModelForSeq2SeqLM.from_pretrained(base_model_path)\n",
    "peft_model = PeftModel.from_pretrained(base_model, peft_model_path)"
   ]
  },
  {
   "cell_type": "code",
   "execution_count": 4,
   "id": "07d8a2c1",
   "metadata": {},
   "outputs": [],
   "source": [
    "test = [\n",
    "  {\n",
    "    \"english\": \"Hello.\",\n",
    "    \"hindi\": \"नमस्ते।\"\n",
    "  },\n",
    "  {\n",
    "    \"english\": \"How are you?\",\n",
    "    \"hindi\": \"आप कैसे हैं?\"\n",
    "  },\n",
    "  {\n",
    "    \"english\": \"I am fine.\",\n",
    "    \"hindi\": \"मैं ठीक हूँ।\"\n",
    "  },\n",
    "  {\n",
    "    \"english\": \"What is your name?\",\n",
    "    \"hindi\": \"आपका नाम क्या है?\"\n",
    "  },\n",
    "  {\n",
    "    \"english\": \"My name is John.\",\n",
    "    \"hindi\": \"मेरा नाम जॉन है।\"\n",
    "  },\n",
    "  {\n",
    "    \"english\": \"Where are you going?\",\n",
    "    \"hindi\": \"आप कहाँ जा रहे हैं?\"\n",
    "  },\n",
    "  {\n",
    "    \"english\": \"I am going home.\",\n",
    "    \"hindi\": \"मैं घर जा रहा हूँ।\"\n",
    "  },\n",
    "  {\n",
    "    \"english\": \"Thank you.\",\n",
    "    \"hindi\": \"धन्यवाद।\"\n",
    "  },\n",
    "  {\n",
    "    \"english\": \"Good morning.\",\n",
    "    \"hindi\": \"शुभ प्रभात।\"\n",
    "  },\n",
    "  {\n",
    "    \"english\": \"Good night.\",\n",
    "    \"hindi\": \"शुभ रात्रि।\"\n",
    "  },\n",
    "  {\n",
    "    \"english\": \"Please help me.\",\n",
    "    \"hindi\": \"कृपया मेरी मदद करें।\"\n",
    "  },\n",
    "  {\n",
    "    \"english\": \"What time is it?\",\n",
    "    \"hindi\": \"अभी क्या समय हुआ है?\"\n",
    "  },\n",
    "  {\n",
    "    \"english\": \"I don't understand.\",\n",
    "    \"hindi\": \"मुझे समझ में नहीं आया।\"\n",
    "  },\n",
    "  {\n",
    "    \"english\": \"Can you speak English?\",\n",
    "    \"hindi\": \"क्या आप अंग्रेज़ी बोल सकते हैं?\"\n",
    "  }\n",
    "]"
   ]
  },
  {
   "cell_type": "code",
   "execution_count": 5,
   "id": "a3f71f42",
   "metadata": {},
   "outputs": [
    {
     "name": "stdout",
     "output_type": "stream",
     "text": [
      "Source: hello.\n",
      "Target: नमस्ते।\n",
      "Translation: आओ।\n",
      "\n",
      "Source: how are you?\n",
      "Target: आप कैसे हैं?\n",
      "Translation: आप कैसा हैं?\n",
      "\n",
      "Source: i am fine.\n",
      "Target: मैं ठीक हूँ।\n",
      "Translation: मैं ठीक हूँ।\n",
      "\n",
      "Source: what is your name?\n",
      "Target: आपका नाम क्या है?\n",
      "Translation: आपका नाम क्या है?\n",
      "\n",
      "Source: my name is john.\n",
      "Target: मेरा नाम जॉन है।\n",
      "Translation: मेरी नाम हरी है।\n",
      "\n",
      "Source: where are you going?\n",
      "Target: आप कहाँ जा रहे हैं?\n",
      "Translation: कहाँ जा रहे हो?\n",
      "\n",
      "Source: i am going home.\n",
      "Target: मैं घर जा रहा हूँ।\n",
      "Translation: मैं घर जा रहा हूँ।\n",
      "\n",
      "Source: thank you.\n",
      "Target: धन्यवाद।\n",
      "Translation: धन्यवाद।\n",
      "\n",
      "Source: good morning.\n",
      "Target: शुभ प्रभात।\n",
      "Translation: सुबह अच्छी है।\n",
      "\n",
      "Source: good night.\n",
      "Target: शुभ रात्रि।\n",
      "Translation: अच्छा रात।\n",
      "\n",
      "Source: please help me.\n",
      "Target: कृपया मेरी मदद करें।\n",
      "Translation: कृपया मदद करें।\n",
      "\n",
      "Source: what time is it?\n",
      "Target: अभी क्या समय हुआ है?\n",
      "Translation: क्या समय है?\n",
      "\n",
      "Source: i don't understand.\n",
      "Target: मुझे समझ में नहीं आया।\n",
      "Translation: मैं समझ नहीं पाता।\n",
      "\n",
      "Source: can you speak english?\n",
      "Target: क्या आप अंग्रेज़ी बोल सकते हैं?\n",
      "Translation: आप अंग्रेजी बोल सकते हैं?\n",
      "\n"
     ]
    }
   ],
   "source": [
    "for d in test:\n",
    "    src =  d['english'].strip().lower()\n",
    "    tgt = d['hindi']\n",
    "    src_tokens = tokenizer(src, return_tensors=\"pt\", padding=True, truncation=True).to(peft_model.device)\n",
    "    translated_tokens = peft_model.generate(**src_tokens)\n",
    "    tgt_trans = tokenizer.batch_decode(translated_tokens, skip_special_tokens=True)[0]\n",
    "    print(f\"Source: {src}\")\n",
    "    print(f\"Target: {tgt}\")\n",
    "    print(f\"Translation: {tgt_trans}\")\n",
    "    print()"
   ]
  },
  {
   "cell_type": "code",
   "execution_count": 6,
   "id": "1bb7e41c",
   "metadata": {},
   "outputs": [],
   "source": [
    "del tokenizer\n",
    "del base_model\n",
    "del peft_model"
   ]
  }
 ],
 "metadata": {
  "kernelspec": {
   "display_name": "Python 3",
   "language": "python",
   "name": "python3"
  },
  "language_info": {
   "codemirror_mode": {
    "name": "ipython",
    "version": 3
   },
   "file_extension": ".py",
   "mimetype": "text/x-python",
   "name": "python",
   "nbconvert_exporter": "python",
   "pygments_lexer": "ipython3",
   "version": "3.13.5"
  }
 },
 "nbformat": 4,
 "nbformat_minor": 5
}
